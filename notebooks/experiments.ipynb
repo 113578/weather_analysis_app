{
 "cells": [
  {
   "cell_type": "code",
   "execution_count": 1,
   "metadata": {
    "id": "SsrwTMhRj6dK"
   },
   "outputs": [],
   "source": [
    "# import pandas as pd\n",
    "# import numpy as np\n",
    "\n",
    "# # Реальные средние температуры (примерные данные) для городов по сезонам\n",
    "# seasonal_temperatures = {\n",
    "#     \"New York\": {\"winter\": 0, \"spring\": 10, \"summer\": 25, \"autumn\": 15},\n",
    "#     \"London\": {\"winter\": 5, \"spring\": 11, \"summer\": 18, \"autumn\": 12},\n",
    "#     \"Paris\": {\"winter\": 4, \"spring\": 12, \"summer\": 20, \"autumn\": 13},\n",
    "#     \"Tokyo\": {\"winter\": 6, \"spring\": 15, \"summer\": 27, \"autumn\": 18},\n",
    "#     \"Moscow\": {\"winter\": -10, \"spring\": 5, \"summer\": 18, \"autumn\": 8},\n",
    "#     \"Sydney\": {\"winter\": 12, \"spring\": 18, \"summer\": 25, \"autumn\": 20},\n",
    "#     \"Berlin\": {\"winter\": 0, \"spring\": 10, \"summer\": 20, \"autumn\": 11},\n",
    "#     \"Beijing\": {\"winter\": -2, \"spring\": 13, \"summer\": 27, \"autumn\": 16},\n",
    "#     \"Rio de Janeiro\": {\"winter\": 20, \"spring\": 25, \"summer\": 30, \"autumn\": 25},\n",
    "#     \"Dubai\": {\"winter\": 20, \"spring\": 30, \"summer\": 40, \"autumn\": 30},\n",
    "#     \"Los Angeles\": {\"winter\": 15, \"spring\": 18, \"summer\": 25, \"autumn\": 20},\n",
    "#     \"Singapore\": {\"winter\": 27, \"spring\": 28, \"summer\": 28, \"autumn\": 27},\n",
    "#     \"Mumbai\": {\"winter\": 25, \"spring\": 30, \"summer\": 35, \"autumn\": 30},\n",
    "#     \"Cairo\": {\"winter\": 15, \"spring\": 25, \"summer\": 35, \"autumn\": 25},\n",
    "#     \"Mexico City\": {\"winter\": 12, \"spring\": 18, \"summer\": 20, \"autumn\": 15},\n",
    "# }\n",
    "\n",
    "# # Сопоставление месяцев с сезонами\n",
    "# month_to_season = {12: \"winter\", 1: \"winter\", 2: \"winter\",\n",
    "#                    3: \"spring\", 4: \"spring\", 5: \"spring\",\n",
    "#                    6: \"summer\", 7: \"summer\", 8: \"summer\",\n",
    "#                    9: \"autumn\", 10: \"autumn\", 11: \"autumn\"}\n",
    "\n",
    "# # Генерация данных о температуре\n",
    "# def generate_realistic_temperature_data(cities, num_years=10):\n",
    "#     dates = pd.date_range(start=\"2010-01-01\", periods=365 * num_years, freq=\"D\")\n",
    "#     data = []\n",
    "\n",
    "#     for city in cities:\n",
    "#         for date in dates:\n",
    "#             season = month_to_season[date.month]\n",
    "#             mean_temp = seasonal_temperatures[city][season]\n",
    "#             # Добавляем случайное отклонение\n",
    "#             temperature = np.random.normal(loc=mean_temp, scale=5)\n",
    "#             data.append({\"city\": city, \"timestamp\": date, \"temperature\": temperature})\n",
    "\n",
    "#     df = pd.DataFrame(data)\n",
    "#     df['season'] = df['timestamp'].dt.month.map(lambda x: month_to_season[x])\n",
    "#     return df\n",
    "\n",
    "# # Генерация данных\n",
    "# data = generate_realistic_temperature_data(list(seasonal_temperatures.keys()))\n",
    "# data.to_csv('temperature_data.csv', index=False)"
   ]
  },
  {
   "cell_type": "markdown",
   "metadata": {},
   "source": [
    "# Первое задание"
   ]
  },
  {
   "cell_type": "code",
   "execution_count": 2,
   "metadata": {},
   "outputs": [
    {
     "name": "stdout",
     "output_type": "stream",
     "text": [
      "/home/boyarskikhae/Documents/Магистратура/1 курс/2 модуль/Прикладной Python/ДЗ-1\n"
     ]
    }
   ],
   "source": [
    "%cd ~/Documents/Магистратура/1 курс/2 модуль/Прикладной Python/ДЗ-1"
   ]
  },
  {
   "cell_type": "code",
   "execution_count": 3,
   "metadata": {},
   "outputs": [],
   "source": [
    "import multiprocessing\n",
    "import concurrent.futures\n",
    "import requests\n",
    "import json\n",
    "import aiohttp\n",
    "import asyncio\n",
    "import pandas as pd\n",
    "import numpy as np\n",
    "\n",
    "from time import time\n",
    "from sklearn.linear_model import LinearRegression\n",
    "from config.config import API_KEY"
   ]
  },
  {
   "cell_type": "code",
   "execution_count": 4,
   "metadata": {},
   "outputs": [],
   "source": [
    "df = pd.read_csv('data/temperature_data.csv')\n",
    "cities = df['city'].unique()\n",
    "season = 'winter'"
   ]
  },
  {
   "cell_type": "code",
   "execution_count": 5,
   "metadata": {},
   "outputs": [],
   "source": [
    "def get_weather_data(city: str, df: pd.DataFrame) -> pd.DataFrame:\n",
    "    # Фильтруем город.\n",
    "    df = df[df['city'] == city].copy()\n",
    "\n",
    "    # Расчёт минимальной, максимальной и средней температуры.\n",
    "    min_temperature = df['temperature'].min()\n",
    "    max_temperature = df['temperature'].max()\n",
    "    mean_temperature = df['temperature'].mean()\n",
    "\n",
    "    # Рассчитываем аномальные значения.\n",
    "    anomalies = df.copy()\n",
    "    \n",
    "    anomalies['moving_average'] = anomalies['temperature'].rolling(window=30, min_periods=1).mean()\n",
    "    anomalies['moving_std'] = anomalies['temperature'].rolling(window=30, min_periods=1).std()\n",
    "    anomalies['is_anomaly'] = anomalies.apply(\n",
    "        lambda column: \n",
    "            1 if \n",
    "                (column['temperature'] >= column['moving_average'] + 2 * column['moving_std']) |\\\n",
    "                (column['temperature'] <= column['moving_average'] - 2 * column['moving_std'])\n",
    "            else 0,\n",
    "        axis=1\n",
    "    )\n",
    "    anomalies = anomalies[['timestamp', 'temperature', 'is_anomaly']]\n",
    "\n",
    "    # Получаем профиль сезона.\n",
    "    season_profile = df.copy()\n",
    "    season_profile = df.groupby('season')['temperature'].agg(average='mean', std='std')\n",
    "    \n",
    "    # Вычисляем тренд.\n",
    "    trend = df.copy()\n",
    "    \n",
    "    trend['timestamp_ordinal'] = pd.to_datetime(trend['timestamp'])\n",
    "    trend['timestamp_ordinal'] = trend['timestamp_ordinal'].map(pd.Timestamp.toordinal)\n",
    "\n",
    "    X = trend[['timestamp_ordinal']]\n",
    "    y = trend[['temperature']]\n",
    "    \n",
    "    regressor = LinearRegression()\n",
    "    regressor.fit(X=X, y=y)\n",
    "    trend['trend'] = regressor.predict(X=X)\n",
    "    \n",
    "    trend = trend[['timestamp', 'trend']]\n",
    "\n",
    "    return {\n",
    "        city: [\n",
    "            mean_temperature, \n",
    "            min_temperature, \n",
    "            max_temperature,\n",
    "            season_profile,\n",
    "            trend,\n",
    "            anomalies\n",
    "        ]\n",
    "    }\n",
    "\n",
    "def collect_weather_data(cities: str, df: pd.DataFrame):\n",
    "    temp_weather_data = []\n",
    "    weather_data = {}\n",
    "    \n",
    "    for city in cities:\n",
    "        temp_weather_data.append(get_weather_data(city=city, df=df))\n",
    "    \n",
    "    for temp_weather_object in temp_weather_data:\n",
    "        weather_data.update(temp_weather_object)\n",
    "\n",
    "    return weather_data\n",
    "\n",
    "def collect_weather_data_multiprocess(cities: str, df: pd.DataFrame):\n",
    "    temp_weather_data = []\n",
    "    weather_data = {}\n",
    "\n",
    "    with multiprocessing.Pool(processes=multiprocessing.cpu_count()) as pool:\n",
    "        args = [(city, df) for city in cities]\n",
    "        temp_weather_data = pool.starmap(get_weather_data, args)\n",
    "    \n",
    "    for temp_weather_object in temp_weather_data:\n",
    "        weather_data.update(temp_weather_object)\n",
    "\n",
    "    return weather_data\n",
    "\n",
    "def collect_weather_data_concurrent(cities: str, df: pd.DataFrame):\n",
    "    temp_weather_data = []\n",
    "    weather_data = {}\n",
    "    \n",
    "    with concurrent.futures.ProcessPoolExecutor(max_workers=multiprocessing.cpu_count()) as executor:\n",
    "        args = [(city, df) for city in cities]\n",
    "        temp_weather_object = list(executor.map(get_weather_data, *zip(*args)))\n",
    "    \n",
    "    for temp_weather_object in temp_weather_data:\n",
    "        weather_data.update(temp_weather_object)\n",
    "\n",
    "    return weather_data"
   ]
  },
  {
   "cell_type": "markdown",
   "metadata": {},
   "source": [
    "## Не оптимизированный вариант"
   ]
  },
  {
   "cell_type": "code",
   "execution_count": 6,
   "metadata": {},
   "outputs": [
    {
     "name": "stdout",
     "output_type": "stream",
     "text": [
      "CPU times: user 1.22 s, sys: 1.41 ms, total: 1.22 s\n",
      "Wall time: 1.24 s\n"
     ]
    }
   ],
   "source": [
    "%%time\n",
    "\n",
    "wd = collect_weather_data(cities=cities, df=df)"
   ]
  },
  {
   "cell_type": "markdown",
   "metadata": {},
   "source": [
    "## Оптимизированный вариант"
   ]
  },
  {
   "cell_type": "markdown",
   "metadata": {},
   "source": [
    "### multiprocessing"
   ]
  },
  {
   "cell_type": "code",
   "execution_count": 7,
   "metadata": {},
   "outputs": [
    {
     "name": "stdout",
     "output_type": "stream",
     "text": [
      "CPU times: user 164 ms, sys: 101 ms, total: 264 ms\n",
      "Wall time: 562 ms\n"
     ]
    }
   ],
   "source": [
    "%%time\n",
    "\n",
    "wdm = collect_weather_data_multiprocess(cities=cities, df=df)"
   ]
  },
  {
   "cell_type": "markdown",
   "metadata": {},
   "source": [
    "### concurrent.futures"
   ]
  },
  {
   "cell_type": "code",
   "execution_count": 8,
   "metadata": {},
   "outputs": [
    {
     "name": "stdout",
     "output_type": "stream",
     "text": [
      "CPU times: user 158 ms, sys: 86 ms, total: 244 ms\n",
      "Wall time: 480 ms\n"
     ]
    }
   ],
   "source": [
    "%%time\n",
    "\n",
    "wdc = collect_weather_data_concurrent(cities=cities, df=df)"
   ]
  },
  {
   "cell_type": "markdown",
   "metadata": {},
   "source": [
    "`Мультипроцессорные подходы работают в несколько раз быстрее не оптимизированого подхода. Для создания процессов были использованы две библиотеки: multiprocessin и concurrent.futures, которые сработали практически одинаково.`"
   ]
  },
  {
   "cell_type": "markdown",
   "metadata": {},
   "source": [
    "## Второе задание"
   ]
  },
  {
   "cell_type": "markdown",
   "metadata": {},
   "source": [
    "## Не оптимизированный вариант"
   ]
  },
  {
   "cell_type": "code",
   "execution_count": 9,
   "metadata": {},
   "outputs": [],
   "source": [
    "def get_temperatures(cities: list, api_key: str) -> float:\n",
    "    temperatures = {}\n",
    "    \n",
    "    for city in cities:\n",
    "        base_url = 'https://api.openweathermap.org/data/2.5/weather?'\n",
    "        params = {\n",
    "            'q': city,\n",
    "            'appid': api_key,\n",
    "            'units': 'metric'\n",
    "        }\n",
    "        \n",
    "        response = requests.get(url=base_url, params=params)\n",
    "        temperature = response.json()['main']['temp']\n",
    "        temperatures.update({city: temperature})\n",
    "\n",
    "    return temperatures\n",
    "\n",
    "def validate_temperature(cities: list, df: pd.DataFrame, season: dict='winter') -> str:\n",
    "    validations = {}\n",
    "    \n",
    "    weather_data = collect_weather_data(cities=cities, df=df) \n",
    "    temperatures = get_temperatures(cities=cities, api_key=API_KEY)\n",
    "    \n",
    "    for city in cities:\n",
    "        season_profile = weather_data[city][3]\n",
    "        \n",
    "        season_average = season_profile.loc[season, 'average']\n",
    "        season_std = season_profile.loc[season, 'std']\n",
    "        season_top = season_average + season_std\n",
    "        season_bottom = season_average - season_std\n",
    "        \n",
    "        if temperatures[city] > season_top: validations.update({city: 'Слишком жарко!'})\n",
    "        elif temperatures[city] < season_bottom: validations.update({city: 'Слишком холодно!'})\n",
    "        else: validations.update({city: 'В норме!'})\n",
    "\n",
    "    return validations"
   ]
  },
  {
   "cell_type": "code",
   "execution_count": 10,
   "metadata": {},
   "outputs": [
    {
     "name": "stdout",
     "output_type": "stream",
     "text": [
      "CPU times: user 1.15 s, sys: 20.3 ms, total: 1.17 s\n",
      "Wall time: 13.1 s\n"
     ]
    }
   ],
   "source": [
    "%%time\n",
    "\n",
    "validations = validate_temperature(df=df, cities=cities, season='winter')"
   ]
  },
  {
   "cell_type": "markdown",
   "metadata": {},
   "source": [
    "## Оптимизированный вариант"
   ]
  },
  {
   "cell_type": "code",
   "execution_count": 11,
   "metadata": {},
   "outputs": [],
   "source": [
    "async def async_get_temperatures(city: str, api_key: str) -> float:\n",
    "    base_url = 'https://api.openweathermap.org/data/2.5/weather?'\n",
    "    params = {\n",
    "        'q': city,\n",
    "        'appid': api_key,\n",
    "        'units': 'metric'\n",
    "    }\n",
    "    \n",
    "    async with aiohttp.ClientSession() as session:\n",
    "        async with session.get(url=base_url, params=params) as response:\n",
    "            temperature = await response.text()\n",
    "            temperature = json.loads(temperature)['main']['temp']\n",
    "\n",
    "    return {city: temperature}\n",
    "\n",
    "async def collect_temperatures(cities: list, api_key: str) -> dict:\n",
    "    temperature = {}\n",
    "    tasks = [async_get_temperatures(city=city, api_key=api_key) for city in cities]\n",
    "    ts = await asyncio.gather(*tasks)\n",
    "    \n",
    "    for t in ts:\n",
    "        temperature.update(t)\n",
    "\n",
    "    return temperature\n",
    "\n",
    "async def async_validate_temperature(cities: list, df: pd.DataFrame, api_key: str, season: dict='winter') -> str:\n",
    "    validations = {}\n",
    "    \n",
    "    weather_data = collect_weather_data_multiprocess(cities=cities, df=df) \n",
    "    temperatures = await collect_temperatures(cities=cities, api_key=api_key)\n",
    "    \n",
    "    for city in cities:\n",
    "        season_profile = weather_data[city][3]\n",
    "        \n",
    "        season_average = season_profile.loc[season, 'average']\n",
    "        season_std = season_profile.loc[season, 'std']\n",
    "        season_top = season_average + season_std\n",
    "        season_bottom = season_average - season_std\n",
    "        \n",
    "        if temperatures[city] > season_top: validations.update({city: 'Слишком жарко!'})\n",
    "        elif temperatures[city] < season_bottom: validations.update({city: 'Слишком холодно!'})\n",
    "        else: validations.update({city: 'В норме!'})\n",
    "\n",
    "    return validations"
   ]
  },
  {
   "cell_type": "code",
   "execution_count": 12,
   "metadata": {},
   "outputs": [
    {
     "name": "stdout",
     "output_type": "stream",
     "text": [
      "Выполнение заняло 1.3895983695983887 секунд\n"
     ]
    }
   ],
   "source": [
    "start = time()\n",
    "validations = await async_validate_temperature(cities=cities, df=df, api_key=API_KEY, season=season)\n",
    "print(f'Выполнение заняло {time() - start} секунд')"
   ]
  },
  {
   "cell_type": "markdown",
   "metadata": {},
   "source": [
    "`Код с асинхронностью и дополнительной оптимизацией с помощью многопроцессност сработал ожидаемо быстрее. Почти в 14 раз! Это достаточно быстро, основной вклад внесло асинхронное обращение к API.`"
   ]
  },
  {
   "cell_type": "code",
   "execution_count": null,
   "metadata": {},
   "outputs": [],
   "source": []
  }
 ],
 "metadata": {
  "colab": {
   "provenance": []
  },
  "kernelspec": {
   "display_name": "Python 3 (ipykernel)",
   "language": "python",
   "name": "python3"
  },
  "language_info": {
   "codemirror_mode": {
    "name": "ipython",
    "version": 3
   },
   "file_extension": ".py",
   "mimetype": "text/x-python",
   "name": "python",
   "nbconvert_exporter": "python",
   "pygments_lexer": "ipython3",
   "version": "3.13.0"
  }
 },
 "nbformat": 4,
 "nbformat_minor": 4
}
